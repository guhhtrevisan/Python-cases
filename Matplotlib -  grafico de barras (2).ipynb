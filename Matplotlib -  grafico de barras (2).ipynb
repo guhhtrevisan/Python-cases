{
 "cells": [
  {
   "cell_type": "markdown",
   "metadata": {},
   "source": [
    "## Exercício - Gráfico de barras\n",
    "\n",
    "Você deve criar um gráfico de barras com as calorias por 100 g de alimento. Os dados estão na primeira célula do Jupyter Notebook. O gráfico deve ter as seguintes características:\n",
    "\n",
    "- Título: Calorias por 100 g de alimento VVVVV\n",
    "- Título: O título do gráfico deve estar na cor cinza, em negrito e com tamanho de fonte 14 VVVVV\n",
    "- Eixos: Alimento (eixo X) e Calorias (eixo Y) VVVVV\n",
    "- Os nomes compostos dos alimentos devem ser quebrados em duas linhas VVVVV\n",
    "- Cores: Todas as barras devem ser cinza VVVVV\n",
    "- Transparência: Todas as barras devem ter transparência de 50% VVVVV\n",
    "- Cor de uma barra específica: A barra do bacon deve ser vermelha e ter transparência de 80% VVVVV\n",
    "- Rótulos: Os rótulos de cada barra devem estar em negrito e na cor branca VVVVV\n",
    "- Rótulos: Os rótulos de cada barra devem estar dentro da barra VVVVV\n",
    "- Ticks: Os ticks do eixo Y devem ser removidos VVVVV\n",
    "- Ticks: Os ticks do eixo X devem ser removidos VVVVV\n",
    "- Box: A caixa do gráfico deve ser removida VVVVV\n",
    "- Grid: O grid do gráfico deve ser removido VVVVV\n",
    "- Figura: A figura deve ter tamanho 8x5 VVVVV\n",
    "- Figura: A figura deve ser salva com o nome grafico_barras.png, com 300 dpi de resolução e com a área de plotagem ajustada\n",
    "- Figura: A figura deve ser salva numa pasta chamada `imagens` que deve estar no mesmo diretório do Jupyter Notebook."
   ]
  },
  {
   "cell_type": "code",
   "execution_count": 3,
   "metadata": {
    "ExecuteTime": {
     "end_time": "2023-07-18T19:12:39.566067500Z",
     "start_time": "2023-07-18T19:12:39.556064100Z"
    },
    "jupyter": {
     "outputs_hidden": true
    }
   },
   "outputs": [],
   "source": [
    "# valores por 100 g do alimento\n",
    "calorias_por_alimento = {\n",
    "    \"Batata Frita\": 607,\n",
    "    \"Batata Chips\": 542,\n",
    "    \"Bacon\": 533,\n",
    "    \"Pizza\": 296,\n",
    "    \"Cachorro Quente\": 260\n",
    "}\n"
   ]
  },
  {
   "cell_type": "markdown",
   "metadata": {},
   "source": [
    "## Importando bibliotecas necessárias"
   ]
  },
  {
   "cell_type": "code",
   "execution_count": 5,
   "metadata": {},
   "outputs": [],
   "source": [
    "import matplotlib.pyplot as plt\n",
    "import numpy as np\n",
    "from cycler import cycler "
   ]
  },
  {
   "cell_type": "markdown",
   "metadata": {},
   "source": [
    "## Separando os valores em listas"
   ]
  },
  {
   "cell_type": "code",
   "execution_count": 30,
   "metadata": {},
   "outputs": [
    {
     "name": "stdout",
     "output_type": "stream",
     "text": [
      "['Batata Frita', 'Batata Chips', 'Bacon', 'Pizza', 'Cachorro Quente']\n",
      "[607, 542, 533, 296, 260]\n"
     ]
    }
   ],
   "source": [
    "produtos = list(calorias_por_alimento.keys())\n",
    "calorias = list(calorias_por_alimento.values())\n",
    "\n",
    "print(produtos)\n",
    "print(calorias)"
   ]
  },
  {
   "cell_type": "markdown",
   "metadata": {},
   "source": [
    "## Configuração da paleta de cores do gráfico"
   ]
  },
  {
   "cell_type": "code",
   "execution_count": 31,
   "metadata": {},
   "outputs": [],
   "source": [
    "cores = plt.get_cmap('Pastel2').colors\n",
    "cycler_colors = cycler('color', cores)\n",
    "plt.rc('axes', prop_cycle=cycler_colors)"
   ]
  },
  {
   "cell_type": "markdown",
   "metadata": {},
   "source": [
    "## Gerando o gráfico"
   ]
  },
  {
   "cell_type": "code",
   "execution_count": 84,
   "metadata": {},
   "outputs": [
    {
     "data": {
      "image/png": "[encoded data removed]",
      "text/plain": [
       "<Figure size 800x500 with 1 Axes>"
      ]
     },
     "metadata": {},
     "output_type": "display_data"
    }
   ],
   "source": [
    "plt.figure(figsize=(8, 5))\n",
    "\n",
    "barras = plt.bar(produtos, calorias, color='dimgrey', alpha=0.5)\n",
    "plt.bar_label(barras, calorias, color='white', weight='bold', label_type='center')\n",
    "\n",
    "\n",
    "for i, barra in enumerate(barras):\n",
    "    if i == produtos.index('Bacon'):\n",
    "        barras[i].set_color('darkred')\n",
    "        barras[i].set_alpha(0.8)\n",
    "    else:\n",
    "        pass\n",
    "\n",
    "plt.title('Categorias por 100g de alimento', color='dimgrey', fontsize=14, fontweight='bold')\n",
    "\n",
    "plt.box(False)\n",
    "\n",
    "plt.tick_params(axis='x', length=0)\n",
    "plt.yticks([])\n",
    "plt.xticks(produtos, [produto.replace(\" \", \"\\n\") for produto in produtos])\n",
    "\n",
    "plt.savefig('imagens/Grafico_barras.png', bbox_inches='tight', dpi=300)\n",
    "\n",
    "plt.show()"
   ]
  }
 ],
 "metadata": {
  "kernelspec": {
   "display_name": "Python 3 (ipykernel)",
   "language": "python",
   "name": "python3"
  },
  "language_info": {
   "codemirror_mode": {
    "name": "ipython",
    "version": 3
   },
   "file_extension": ".py",
   "mimetype": "text/x-python",
   "name": "python",
   "nbconvert_exporter": "python",
   "pygments_lexer": "ipython3",
   "version": "3.11.3"
  }
 },
 "nbformat": 4,
 "nbformat_minor": 4
}
