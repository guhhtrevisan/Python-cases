{
 "cells": [
  {
   "cell_type": "markdown",
   "id": "bc53556e-a539-4328-b873-fa5357312414",
   "metadata": {},
   "source": [
    "Crie um programa que analise um texto fornecido pelo usuário. O programa deve contar o número de palavras (independentemente se há repetição ou não), a quantidade de cada palavra e a quantidade de cada letra. Ignore maiúsculas e minúsculas ao contar letras (ou seja, transforme tudo para minúsculas). Faça o devido tratamento para pontuação e espaços ao contar palavras.\n",
    "\n",
    "O programa deve conter uma função chamada `analisar_texto` que recebe o texto como parâmetro e retorna a contagem de palavras, a frequência de palavras e a frequência de letras. A função deve ser devidamente documentada.\n",
    "\n",
    "Para o texto \"Olá mundo! Este é um teste. Olá novamente.\" o programa deve imprimir:\n",
    "\n",
    "```\n",
    "Contagem de palavras: 8\n",
    "Frequência de palavras: Counter({'Olá': 2, 'mundo': 1, 'Este': 1, 'é': 1, 'um': 1, 'teste': 1, 'novamente': 1})\n",
    "Frequência de letras: Counter({' ': 7, 'e': 6, 'o': 4, 't': 4, 'm': 3, 'n': 3, 'l': 2, 'á': 2, 'u': 2, 's': 2, 'd': 1, 'é': 1, 'v': 1, 'a': 1})\n",
    "```\n",
    "\n",
    "Dica: use o módulo `string` para obter uma lista de caracteres de pontuação. Exemplo:\n",
    "\n",
    "```python\n",
    "import string\n",
    "print(string.punctuation)\n",
    "```\n",
    "\n",
    "Dica: use o módulo `collections` para obter um contador de palavras e letras. Exemplo:\n",
    "\n",
    "```python\n",
    "from collections import Counter\n",
    "print(Counter(['a', 'b', 'a', 'c', 'b', 'a']))\n",
    "print(Counter('abacba'))\n",
    "``` "
   ]
  },
  {
   "cell_type": "code",
   "execution_count": 1,
   "id": "b91b2c63",
   "metadata": {},
   "outputs": [
    {
     "name": "stdout",
     "output_type": "stream",
     "text": [
      "!\"#$%&'()*+,-./:;<=>?@[\\]^_`{|}~\n"
     ]
    }
   ],
   "source": [
    "import string\n",
    "print(string.punctuation)"
   ]
  },
  {
   "cell_type": "code",
   "execution_count": 2,
   "id": "f1eb52af",
   "metadata": {},
   "outputs": [
    {
     "name": "stdout",
     "output_type": "stream",
     "text": [
      "Counter({'a': 3, 'b': 2, 'c': 1})\n",
      "Counter({'a': 3, 'b': 2, 'c': 1})\n"
     ]
    }
   ],
   "source": [
    "from collections import Counter\n",
    "print(Counter(['a', 'b', 'a', 'c', 'b', 'a']))\n",
    "print(Counter('abacba'))"
   ]
  },
  {
   "cell_type": "code",
   "execution_count": 36,
   "id": "17195989",
   "metadata": {},
   "outputs": [
    {
     "name": "stdout",
     "output_type": "stream",
     "text": [
      "A frase: Olá mundo! Este é um teste. Olá novamente., Possui: 8 palavras,\n",
      "Counter({'lá': 2, 'mundo!': 1, 'Este': 1, 'é': 1, 'um': 1, 'teste.': 1, 'novamente.': 1}), Counter({' ': 7, 'e': 6, 't': 4, 'm': 3, 'n': 3, 'l': 2, 'á': 2, 'u': 2, 'o': 2, 's': 2, '.': 2, 'd': 1, '!': 1, 'é': 1, 'v': 1, 'a': 1})\n"
     ]
    }
   ],
   "source": [
    "import string\n",
    "from collections import Counter\n",
    "\n",
    "def analisador_texto(texto):\n",
    "    tratamento = str.maketrans('', '', string.punctuation)\n",
    "    texto_tratado = texto.translate(tratamento)\n",
    "    texto_novo = texto_tratado.split()  # Agora divide a string tratada em palavras\n",
    "    contagem_palavras = len(texto_novo)\n",
    "    frequencia_palavras = Counter(texto_novo)\n",
    "    frequencia_letras = Counter(texto_tratado.lower())\n",
    "    return (contagem_palavras, frequencia_palavras, frequencia_letras, texto_tratado)\n",
    "\n",
    "frase = \"Olá mundo! Este é um teste. Olá novamente.\"\n",
    "contagem_palavras, frequencia_palavras, frequencia_letras, texto_tratado = analisador_texto(frase)\n",
    "\n",
    "print(f'''A frase: {frase}, Possui: {contagem_palavras} palavras,\n",
    "{frequencia_palavras}, {frequencia_letras}''')\n"
   ]
  },
  {
   "cell_type": "code",
   "execution_count": null,
   "id": "af038fbc",
   "metadata": {},
   "outputs": [],
   "source": []
  },
  {
   "cell_type": "markdown",
   "id": "c807c907-e119-4c7c-a160-dc38293d00e5",
   "metadata": {},
   "source": [
    "Documentações úteis:\n",
    "\n",
    "- https://docs.python.org/pt-br/3/library/string.html\n",
    "- https://docs.python.org/pt-br/3/library/stdtypes.html?highlight=translate#str.maketrans\n",
    "- https://docs.python.org/pt-br/3/library/stdtypes.html?highlight=translate#str.translate"
   ]
  },
  {
   "cell_type": "code",
   "execution_count": 1,
   "id": "6bc1f972-493a-46b3-863d-7dda9ba8f934",
   "metadata": {
    "tags": []
   },
   "outputs": [
    {
     "name": "stdout",
     "output_type": "stream",
     "text": [
      "Contagem de palavras: 8\n",
      "Frequência de palavras: Counter({'Olá': 2, 'mundo': 1, 'Este': 1, 'é': 1, 'um': 1, 'teste': 1, 'novamente': 1})\n",
      "Frequência de letras: Counter({' ': 7, 'e': 6, 'o': 4, 't': 4, 'm': 3, 'n': 3, 'l': 2, 'á': 2, 'u': 2, 's': 2, 'd': 1, 'é': 1, 'v': 1, 'a': 1})\n"
     ]
    }
   ],
   "source": [
    "import string\n",
    "from collections import Counter\n",
    "\n",
    "\n",
    "def analisar_texto(texto):\n",
    "    \"\"\"\n",
    "    Analisa o texto fornecido e calcula a contagem de palavras, a frequência de palavras\n",
    "    e a frequência de letras.\n",
    "\n",
    "    Parameters\n",
    "    ----------\n",
    "    texto : str\n",
    "        Texto a ser analisado\n",
    "\n",
    "    Returns\n",
    "    -------\n",
    "    tuple\n",
    "        Contagem de palavras, frequência de palavras e frequência de letras\n",
    "    \"\"\"\n",
    "\n",
    "    # Remove a pontuação do texto\n",
    "    tratamento = str.maketrans('', '', string.punctuation)\n",
    "    texto_tratado = texto.translate(tratamento)\n",
    "\n",
    "    palavras = texto_tratado.split()\n",
    "    contagem_palavras = len(palavras)\n",
    "    frequencia_palavras = Counter(palavras)\n",
    "\n",
    "    # Converte o texto para minúsculas e conta a frequência das letras\n",
    "    frequencia_letras = Counter(texto_tratado.lower())\n",
    "\n",
    "    return contagem_palavras, frequencia_palavras, frequencia_letras\n",
    "\n",
    "\n",
    "texto = \"Olá mundo! Este é um teste. Olá novamente.\"\n",
    "contagem_palavras, frequencia_palavras, frequencia_letras = analisar_texto(texto)\n",
    "print(f\"Contagem de palavras: {contagem_palavras}\")\n",
    "print(f\"Frequência de palavras: {frequencia_palavras}\")\n",
    "print(f\"Frequência de letras: {frequencia_letras}\")\n"
   ]
  }
 ],
 "metadata": {
  "kernelspec": {
   "display_name": "Python 3 (ipykernel)",
   "language": "python",
   "name": "python3"
  },
  "language_info": {
   "codemirror_mode": {
    "name": "ipython",
    "version": 3
   },
   "file_extension": ".py",
   "mimetype": "text/x-python",
   "name": "python",
   "nbconvert_exporter": "python",
   "pygments_lexer": "ipython3",
   "version": "3.11.3"
  }
 },
 "nbformat": 4,
 "nbformat_minor": 5
}
