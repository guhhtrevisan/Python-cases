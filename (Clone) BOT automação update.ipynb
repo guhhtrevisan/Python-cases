{
 "cells": [
  {
   "cell_type": "markdown",
   "metadata": {
    "application/vnd.databricks.v1+cell": {
     "cellMetadata": {
      "byteLimit": 2048000,
      "rowLimit": 10000
     },
     "inputWidgets": {},
     "nuid": "75513cf2-ddd6-421e-aa52-57e30ab852aa",
     "showTitle": false,
     "title": ""
    }
   },
   "source": [
    "# AUTOMAÇÃO DE UPDATE \n",
    "##(Operational policy)"
   ]
  },
  {
   "cell_type": "code",
   "execution_count": 0,
   "metadata": {
    "application/vnd.databricks.v1+cell": {
     "cellMetadata": {
      "byteLimit": 2048000,
      "rowLimit": 10000
     },
     "inputWidgets": {},
     "nuid": "d4ac36c6-f380-49b7-ac22-1cf521435143",
     "showTitle": false,
     "title": ""
    }
   },
   "outputs": [],
   "source": [
    "# ### Instalação de bibliotecas\n",
    "# ##---------------------------\n",
    "\n",
    "# !pip install gitlab\n",
    "# !pip install python-gitlab\n",
    "# !pip install jira"
   ]
  },
  {
   "cell_type": "code",
   "execution_count": 0,
   "metadata": {
    "application/vnd.databricks.v1+cell": {
     "cellMetadata": {
      "byteLimit": 2048000,
      "rowLimit": 10000
     },
     "inputWidgets": {},
     "nuid": "f7ad5a1b-be10-4364-b7b4-417e5cdf1a4d",
     "showTitle": false,
     "title": ""
    }
   },
   "outputs": [],
   "source": [
    "# Bibliotecas\n",
    "import mysql.connector\n",
    "import numpy as np\n",
    "import pandas as pd\n",
    "import requests\n",
    "import gitlab\n",
    "import base64\n",
    "import json\n",
    "import datetime\n",
    "from jira import JIRA\n",
    "from datetime import datetime"
   ]
  },
  {
   "cell_type": "code",
   "execution_count": 0,
   "metadata": {
    "application/vnd.databricks.v1+cell": {
     "cellMetadata": {
      "byteLimit": 2048000,
      "rowLimit": 10000
     },
     "inputWidgets": {},
     "nuid": "53d7f74e-1adb-490c-871f-26a9a6b492f2",
     "showTitle": false,
     "title": ""
    }
   },
   "outputs": [],
   "source": [
    "### Configura conexão com o banco de dados ReportDB\n",
    "#-----------------------------------------------------------------------------\n",
    "\n",
    "# Configurações\n",
    "host = dbutils.secrets.get(DB_Host)\n",
    "port = (DB_Port)\n",
    "user = dbutils.secrets.get(DB_User)\n",
    "password = dbutils.secrets.get(DB_Password)\n",
    "database = dbutils.secrets.get(DB)\n",
    "table_name = 'table_name'\n",
    "\n",
    "# Criar a conexão com o banco de dados MySQL\n",
    "conn = mysql.connector.connect(host=host, port=port, user=user, password=password, database=database)\n",
    "cursor = conn.cursor()\n",
    "\n",
    "# Executar a consulta SQL para obter os dados da tabela\n",
    "query = f\"SELECT * FROM {table_name}\"\n",
    "cursor.execute(query)\n",
    "\n",
    "# Obter os nomes das colunas do banco de dados\n",
    "columns = [col[0] for col in cursor.description]\n",
    "\n",
    "# Recuperar os resultados da consulta\n",
    "results = cursor.fetchall()\n",
    "\n",
    "# Criar um DataFrame Pandas com os nomes das colunas corretos\n",
    "df_operational_policy = pd.DataFrame(results, columns=columns)\n",
    "\n",
    "# Fechar o cursor e a conexão\n",
    "cursor.close()\n",
    "conn.close()\n",
    "\n",
    "# Exibir o DataFrame Pandas\n",
    "display(df_operational_policy.head())"
   ]
  },
  {
   "cell_type": "code",
   "execution_count": 0,
   "metadata": {
    "application/vnd.databricks.v1+cell": {
     "cellMetadata": {
      "byteLimit": 2048000,
      "rowLimit": 10000
     },
     "inputWidgets": {},
     "nuid": "9a394f6c-08a1-47a9-a847-3c053657d4f0",
     "showTitle": false,
     "title": ""
    }
   },
   "outputs": [],
   "source": [
    "display(df_operational_policy.tail())"
   ]
  },
  {
   "cell_type": "markdown",
   "metadata": {
    "application/vnd.databricks.v1+cell": {
     "cellMetadata": {
      "byteLimit": 2048000,
      "rowLimit": 10000
     },
     "inputWidgets": {},
     "nuid": "57f9a75e-502d-434e-a0e0-224ab69fbdd0",
     "showTitle": false,
     "title": ""
    }
   },
   "source": [
    "## Informações guardadas do banco"
   ]
  },
  {
   "cell_type": "code",
   "execution_count": 0,
   "metadata": {
    "application/vnd.databricks.v1+cell": {
     "cellMetadata": {
      "byteLimit": 2048000,
      "rowLimit": 10000
     },
     "inputWidgets": {},
     "nuid": "3f837929-2fff-42b5-b93d-317f1276ef48",
     "showTitle": false,
     "title": ""
    }
   },
   "outputs": [],
   "source": [
    "tipos_de_dados = df_operational_policy.dtypes\n",
    "print(tipos_de_dados)"
   ]
  },
  {
   "cell_type": "code",
   "execution_count": 0,
   "metadata": {
    "application/vnd.databricks.v1+cell": {
     "cellMetadata": {
      "byteLimit": 2048000,
      "rowLimit": 10000
     },
     "inputWidgets": {},
     "nuid": "024d2482-f3e9-4ccb-894a-804ad9113342",
     "showTitle": false,
     "title": ""
    }
   },
   "outputs": [],
   "source": [
    "# Biblioteca com DePara para os nomes das colunas dentro do DF operational_policy\n",
    "colunas = {'processo' : 'txt_process_number', \n",
    "           'emissao' : 'dt_emission', \n",
    "           'numero da apolice' : 'txt_policy_number',\n",
    "           'razao_social' : 'txt_complainant_name',\n",
    "           'razao_social_cnpj' : 'txt_complainant_cnpj_cfp',\n",
    "           'segurado' : 'id_tribunal',\n",
    "           'seguradora' : 'id_insurance_company'}\n",
    "\n",
    "print(colunas)"
   ]
  },
  {
   "cell_type": "code",
   "execution_count": 0,
   "metadata": {
    "application/vnd.databricks.v1+cell": {
     "cellMetadata": {
      "byteLimit": 2048000,
      "rowLimit": 10000
     },
     "inputWidgets": {},
     "nuid": "263914c7-0ac8-4d95-bf6d-5b533fe9be88",
     "showTitle": false,
     "title": ""
    }
   },
   "outputs": [],
   "source": [
    "# Lista com colunas tipo INT e FLOAT\n",
    "coluna_int_float = []\n",
    "coluna_datetime = []\n",
    "\n",
    "tipos_de_dados = df_operational_policy.dtypes\n",
    "tipos_de_dados = tipos_de_dados.to_dict()\n",
    "for coluna, tipo_dado in tipos_de_dados.items():\n",
    "  if tipo_dado == 'int' or tipo_dado == 'float':\n",
    "    coluna_int_float.append(coluna)\n",
    "  elif tipo_dado == 'datetime64[ns]' or coluna == 'dt_emission':\n",
    "    coluna_datetime.append(coluna)\n",
    "\n",
    "print(coluna_int_float)\n",
    "print(coluna_datetime)"
   ]
  },
  {
   "cell_type": "markdown",
   "metadata": {
    "application/vnd.databricks.v1+cell": {
     "cellMetadata": {
      "byteLimit": 2048000,
      "rowLimit": 10000
     },
     "inputWidgets": {},
     "nuid": "92a1ea24-9eec-4334-8a61-96a3f438e4da",
     "showTitle": false,
     "title": ""
    }
   },
   "source": [
    "## Leitura do chamado"
   ]
  },
  {
   "cell_type": "code",
   "execution_count": 0,
   "metadata": {
    "application/vnd.databricks.v1+cell": {
     "cellMetadata": {
      "byteLimit": 2048000,
      "rowLimit": 10000
     },
     "inputWidgets": {},
     "nuid": "d49630d5-bae8-4147-9eb9-814c564a67cf",
     "showTitle": false,
     "title": ""
    }
   },
   "outputs": [],
   "source": [
    "### Configura conexão com o Jira\n",
    "#-----------------------------------------------------------------------------\n",
    "\n",
    "\n",
    "# Construct a Client Instance\n",
    "jiraOptions = {'server': \"server.atlassian.com\"}\n",
    "email_id = \"email_id\"\n",
    "token = \"token_Jira\"\n",
    "\n",
    "# Pass the Authentication Parameter\n",
    "jira = JIRA(options=jiraOptions, basic_auth=(email_id, token))\n",
    "\n",
    "# Read the issue\n",
    "card = dbutils.widgets.get(\"Chamado\") #Como o script foi feito no databricks, podemos usar widgets para receber o card\n",
    "singleIssue = jira.issue(card)\n",
    "print('{}: {}:{}:{}'.format(singleIssue.key,\n",
    "                         singleIssue.fields.summary,\n",
    "                         singleIssue.fields.description,\n",
    "                         singleIssue.fields.reporter.displayName))\n",
    "\n",
    "comentario = singleIssue.fields.summary\n",
    "print(comentario)\n",
    "\n",
    "chave_chamado = singleIssue.key\n",
    "print(chave_chamado)\n",
    "\n",
    "chamado = singleIssue.fields.description\n",
    "print(chamado)"
   ]
  },
  {
   "cell_type": "markdown",
   "metadata": {
    "application/vnd.databricks.v1+cell": {
     "cellMetadata": {
      "byteLimit": 2048000,
      "rowLimit": 10000
     },
     "inputWidgets": {},
     "nuid": "9d77aa28-dd7b-43cf-9af4-41d4abcec6e7",
     "showTitle": false,
     "title": ""
    }
   },
   "source": [
    "## Informações para o Update"
   ]
  },
  {
   "cell_type": "code",
   "execution_count": 0,
   "metadata": {
    "application/vnd.databricks.v1+cell": {
     "cellMetadata": {
      "byteLimit": 2048000,
      "rowLimit": 10000
     },
     "inputWidgets": {},
     "nuid": "63443969-8b97-4639-9095-c70c33f075bf",
     "showTitle": false,
     "title": ""
    }
   },
   "outputs": [],
   "source": [
    "# Separando as palavras do chamado\n",
    "chamado_palavras = chamado.split()\n",
    "print(chamado_palavras)"
   ]
  },
  {
   "cell_type": "code",
   "execution_count": 0,
   "metadata": {
    "application/vnd.databricks.v1+cell": {
     "cellMetadata": {
      "byteLimit": 2048000,
      "rowLimit": 10000
     },
     "inputWidgets": {},
     "nuid": "d5301e09-138c-42c2-affe-f1c75ca09925",
     "showTitle": false,
     "title": ""
    }
   },
   "outputs": [],
   "source": [
    "# Pegando coluna a ser alterada no update\n",
    "coluna_update = []\n",
    "\n",
    "for palavra in chamado_palavras:\n",
    "  if palavra in colunas:\n",
    "    coluna_update.append(colunas[palavra])\n",
    "\n",
    "print(f'A coluna a ser atualizada é: {coluna_update}')"
   ]
  },
  {
   "cell_type": "code",
   "execution_count": 0,
   "metadata": {
    "application/vnd.databricks.v1+cell": {
     "cellMetadata": {
      "byteLimit": 2048000,
      "rowLimit": 10000
     },
     "inputWidgets": {},
     "nuid": "97b995c8-4cde-4eca-b452-26b555c92bc6",
     "showTitle": false,
     "title": ""
    }
   },
   "outputs": [],
   "source": [
    "# Pegando ID do update\n",
    "id_update = []\n",
    "\n",
    "for i, palavra in enumerate(chamado_palavras):\n",
    "  if palavra == 'ID':\n",
    "    id_index = i + 1\n",
    "    id_update.append(chamado_palavras[id_index])\n",
    "\n",
    "print(f'O ID a ser atualizado é: {id_update}')"
   ]
  },
  {
   "cell_type": "code",
   "execution_count": 0,
   "metadata": {
    "application/vnd.databricks.v1+cell": {
     "cellMetadata": {
      "byteLimit": 2048000,
      "rowLimit": 10000
     },
     "inputWidgets": {},
     "nuid": "2b67d0f5-98e3-4742-8c8e-7ec7cba9795b",
     "showTitle": false,
     "title": ""
    }
   },
   "outputs": [],
   "source": [
    "# Pega o antigo valor para o Rollback\n",
    "antigo_valor_update = []\n",
    "\n",
    "for i, id in enumerate(id_update):\n",
    "    antigo_valor_update.append(df_operational_policy.loc[int(id), coluna_update[i]])\n",
    "\n",
    "\n",
    "for i, valor in enumerate(antigo_valor_update):\n",
    "    if coluna_update[i] in coluna_datetime:\n",
    "        dt_format_valor = \"%Y-%m-%d 00:00:00\"\n",
    "        if isinstance(valor, datetime):\n",
    "            antigo_valor_update[i] = valor.strftime(dt_format_valor)\n",
    "\n",
    "print(antigo_valor_update)"
   ]
  },
  {
   "cell_type": "code",
   "execution_count": 0,
   "metadata": {
    "application/vnd.databricks.v1+cell": {
     "cellMetadata": {
      "byteLimit": 2048000,
      "rowLimit": 10000
     },
     "inputWidgets": {},
     "nuid": "c3f434a6-ab19-488c-b653-126401cc0232",
     "showTitle": false,
     "title": ""
    }
   },
   "outputs": [],
   "source": [
    "# Pegando o novo valor para realizar o Update\n",
    "novo_valor = []\n",
    "\n",
    "for i, palavra in enumerate(chamado_palavras):\n",
    "  if palavra == 'novo_valor':\n",
    "    id_index_novo_valor = i + 1\n",
    "    novo_valor.append(chamado_palavras[id_index_novo_valor])\n",
    "\n",
    "\n",
    "for i, valor in enumerate(novo_valor):\n",
    "  if coluna_update[i] in coluna_datetime and len(novo_valor[i]) < 20:\n",
    "    novo_valor[i] = novo_valor[i] + \" 00:00:00\"\n",
    "\n",
    "print(f'O novo valor é: {novo_valor}')"
   ]
  },
  {
   "cell_type": "markdown",
   "metadata": {
    "application/vnd.databricks.v1+cell": {
     "cellMetadata": {
      "byteLimit": 2048000,
      "rowLimit": 10000
     },
     "inputWidgets": {},
     "nuid": "4e9cd50f-6463-40ee-891e-f6ce1cb06e86",
     "showTitle": false,
     "title": ""
    }
   },
   "source": [
    "## Script do Update"
   ]
  },
  {
   "cell_type": "code",
   "execution_count": 0,
   "metadata": {
    "application/vnd.databricks.v1+cell": {
     "cellMetadata": {
      "byteLimit": 2048000,
      "rowLimit": 10000
     },
     "inputWidgets": {},
     "nuid": "80195eff-4444-4f46-bd28-d9c90d0efcb3",
     "showTitle": false,
     "title": ""
    }
   },
   "outputs": [],
   "source": [
    "# Informações de data e hora do changeset\n",
    "agora = datetime.now()\n",
    "formato = \"%Y-%m-%d-%H%M\"\n",
    "data_hora_formatada = agora.strftime(formato)\n",
    "\n",
    "data_hora_formatada"
   ]
  },
  {
   "cell_type": "code",
   "execution_count": 0,
   "metadata": {
    "application/vnd.databricks.v1+cell": {
     "cellMetadata": {
      "byteLimit": 2048000,
      "rowLimit": 10000
     },
     "inputWidgets": {},
     "nuid": "8324bf42-a3a6-4e7a-99b4-034243608042",
     "showTitle": false,
     "title": ""
    }
   },
   "outputs": [],
   "source": [
    "# Changeset\n",
    "update_head =f'''-- liquibase formatted sql\n",
    "-- changeset Nome Sobrenome:{data_hora_formatada}\n",
    "-- comment [{chave_chamado}] {comentario}'''\n",
    "\n",
    "print(update_head)"
   ]
  },
  {
   "cell_type": "code",
   "execution_count": 0,
   "metadata": {
    "application/vnd.databricks.v1+cell": {
     "cellMetadata": {
      "byteLimit": 2048000,
      "rowLimit": 10000
     },
     "inputWidgets": {},
     "nuid": "6767e326-b563-4632-a891-3e7bdd58e468",
     "showTitle": false,
     "title": ""
    }
   },
   "outputs": [],
   "source": [
    "#### QUERY UPDATE\n",
    "\n",
    "# Variáveis\n",
    "indice = 0\n",
    "updates = {}\n",
    "\n",
    "# Montagem\n",
    "for i, id in enumerate(id_update):\n",
    "  if coluna_update[i] in coluna_int_float:\n",
    "    if antigo_valor_update[i]:\n",
    "      updates[indice+1] = f'''update operational_policy set {coluna_update[i]} = {novo_valor[i]} where id = {id_update[i]};\n",
    "-- rollback update operational_policy set {coluna_update[i]} = {antigo_valor_update[i]} where id = {id_update[i]};\\n\\n'''\n",
    "      indicie += 1\n",
    "    else:\n",
    "      updates[indice+1] = f'''update operational_policy set {coluna_update[i]} = {novo_valor[i]} where id = {id_update[i]};\n",
    "-- rollback update operational_policy set {coluna_update[i]} = NULL where id = {id_update[i]};\\n\\n'''\n",
    "      indicie += 1\n",
    "  else:\n",
    "    if antigo_valor_update[i]:\n",
    "      updates[indice+1] = f'''update operational_policy set {coluna_update[i]} = \\'{novo_valor[i]}\\' where id = {id_update[i]};\n",
    "-- rollback update operational_policy set {coluna_update[i]} = \\'{antigo_valor_update[i]}\\' where id = {id_update[i]};\\n\\n'''\n",
    "      indice += 1\n",
    "    else:\n",
    "      updates[indice+1] = f'''update operational_policy set {coluna_update[i]} = \\'{novo_valor[i]}\\' where id = {id_update[i]};\n",
    "-- rollback update operational_policy set {coluna_update[i]} = NULL where id = {id_update[i]};\\n\\n'''\n",
    "      indice += 1\n",
    "    \n",
    "print(updates)"
   ]
  },
  {
   "cell_type": "code",
   "execution_count": 0,
   "metadata": {
    "application/vnd.databricks.v1+cell": {
     "cellMetadata": {
      "byteLimit": 2048000,
      "rowLimit": 10000
     },
     "inputWidgets": {},
     "nuid": "ba6f0084-b41e-4442-a580-2227bdcf0c12",
     "showTitle": false,
     "title": ""
    }
   },
   "outputs": [],
   "source": [
    "# Monta a query para o arquivo do commit\n",
    "query = ''\n",
    "for valores in updates.values():\n",
    "  if valores not in query:\n",
    "    query += valores\n",
    "    \n",
    "query_completa = update_head + '\\n\\n' + query[:-2]\n",
    "print(query_completa)"
   ]
  },
  {
   "cell_type": "markdown",
   "metadata": {
    "application/vnd.databricks.v1+cell": {
     "cellMetadata": {
      "byteLimit": 2048000,
      "rowLimit": 10000
     },
     "inputWidgets": {},
     "nuid": "c5f6a839-5ce8-4ca3-9ba3-0855d1a1529d",
     "showTitle": false,
     "title": ""
    }
   },
   "source": [
    "##Conexão com o Gitlab"
   ]
  },
  {
   "cell_type": "code",
   "execution_count": 0,
   "metadata": {
    "application/vnd.databricks.v1+cell": {
     "cellMetadata": {
      "byteLimit": 2048000,
      "rowLimit": 10000
     },
     "inputWidgets": {},
     "nuid": "e3e7ca65-4f8b-4ba4-81cf-46ba5a96592f",
     "showTitle": false,
     "title": ""
    }
   },
   "outputs": [],
   "source": [
    "# Tratando branch name\n",
    "tratando_caracteres = {'ç' : 'c', 'á' : 'a', 'à' : 'a', 'â' : 'a', 'ã' : 'a', 'é' : 'e', 'ê' : 'e', 'í' : 'i', 'ó' : 'o', 'ô' : 'o', 'õ' : 'o', 'ò' : 'o', ' ' : '-', 'ú' : 'u'}\n",
    "\n",
    "commit_message = singleIssue.fields.summary\n",
    "commit_message = commit_message.lower()\n",
    "print(commit_message)\n",
    "\n",
    "branch_name_comment = singleIssue.fields.summary\n",
    "branch_name_comment = branch_name_comment.lower()\n",
    "for caracter, letra in tratando_caracteres.items():\n",
    "  if caracter in branch_name_comment:\n",
    "    branch_name_comment = branch_name_comment.replace(caracter, letra)\n",
    "\n",
    "print(branch_name_comment)"
   ]
  },
  {
   "cell_type": "code",
   "execution_count": 0,
   "metadata": {
    "application/vnd.databricks.v1+cell": {
     "cellMetadata": {
      "byteLimit": 2048000,
      "rowLimit": 10000
     },
     "inputWidgets": {},
     "nuid": "b0a95a12-5246-45d0-9d48-98d7a370a4e9",
     "showTitle": false,
     "title": ""
    }
   },
   "outputs": [],
   "source": [
    "### Configura conexão com o Gitlab\n",
    "#-----------------------------------------------------------------------------\n",
    "\n",
    "\n",
    "# Configurações\n",
    "gitlab_url = r\"https://gitlab.com\"\n",
    "support_project_id = \"project_id\" \n",
    "gitlab_token = \"token_acesso_gitlab\"\n",
    "\n",
    "# Crie uma instância da classe Gitlab\n",
    "gl = gitlab.Gitlab(gitlab_url, private_token=gitlab_token)\n",
    "\n",
    "# Autentique-se no GitLab\n",
    "gl.auth()"
   ]
  },
  {
   "cell_type": "code",
   "execution_count": 0,
   "metadata": {
    "application/vnd.databricks.v1+cell": {
     "cellMetadata": {
      "byteLimit": 2048000,
      "rowLimit": 10000
     },
     "inputWidgets": {},
     "nuid": "e0d9cfa2-f3a8-4717-9ab1-e9ce4a1225b3",
     "showTitle": false,
     "title": ""
    }
   },
   "outputs": [],
   "source": [
    "# Lendo o projeto em que fazemos update\n",
    "project = gl.projects.get(support_project_id)\n",
    "print(f\"Informações sobre o projeto {project.name}:\")\n",
    "print(f\"Descrição: {project.description}\")\n",
    "print(f\"URL do repositório: {project.web_url}\")\n",
    "\n",
    "# Lendo branches do projeto\n",
    "branch_main = project.branches.list()\n",
    "print(branch_main)"
   ]
  },
  {
   "cell_type": "code",
   "execution_count": 0,
   "metadata": {
    "application/vnd.databricks.v1+cell": {
     "cellMetadata": {
      "byteLimit": 2048000,
      "rowLimit": 10000
     },
     "inputWidgets": {},
     "nuid": "5d1f871b-98c1-4212-9115-75fa60596a49",
     "showTitle": false,
     "title": ""
    }
   },
   "outputs": [],
   "source": [
    "# Criando nova branch\n",
    "branch_name = f'hotfix/{chave_chamado}-{branch_name_comment}'\n",
    "\n",
    "branch = project.branches.create({'branch': branch_name,\n",
    "                                  'ref': 'main'})"
   ]
  },
  {
   "cell_type": "code",
   "execution_count": 0,
   "metadata": {
    "application/vnd.databricks.v1+cell": {
     "cellMetadata": {
      "byteLimit": 2048000,
      "rowLimit": 10000
     },
     "inputWidgets": {},
     "nuid": "2a3f9243-a742-45a0-93cb-e11f1ab16532",
     "showTitle": false,
     "title": ""
    }
   },
   "outputs": [],
   "source": [
    "# Novo arquivo\n",
    "arquivo_changes = f'arquivo_nome/{data_hora_formatada}-{branch_name_comment}.sql'\n",
    "\n",
    "# Conteúdo do commit\n",
    "query_update = query_completa\n",
    "\n",
    "# Fazendo commit dentro da branch\n",
    "data = {\n",
    "    'branch': branch_name,\n",
    "    'commit_message': f'[{chave_chamado}] {commit_message}',\n",
    "    'actions': [\n",
    "        {\n",
    "            'action': 'create',\n",
    "            'file_path': arquivo_changes,\n",
    "            'content': query_update,\n",
    "        }\n",
    "    ]\n",
    "}\n",
    "\n",
    "commit = project.commits.create(data)"
   ]
  },
  {
   "cell_type": "code",
   "execution_count": 0,
   "metadata": {
    "application/vnd.databricks.v1+cell": {
     "cellMetadata": {
      "byteLimit": 2048000,
      "rowLimit": 10000
     },
     "inputWidgets": {},
     "nuid": "2fdf9a70-bc5f-48a3-acba-0be2447372af",
     "showTitle": false,
     "title": ""
    }
   },
   "outputs": [],
   "source": [
    "# Lista os merges criados por mim (Dono do token)\n",
    "mrs = gl.mergerequests.list()\n",
    "print(mrs)"
   ]
  },
  {
   "cell_type": "code",
   "execution_count": 0,
   "metadata": {
    "application/vnd.databricks.v1+cell": {
     "cellMetadata": {
      "byteLimit": 2048000,
      "rowLimit": 10000
     },
     "inputWidgets": {},
     "nuid": "2761b8c4-d8ca-42ed-956f-1b8123d7d1d2",
     "showTitle": false,
     "title": ""
    }
   },
   "outputs": [],
   "source": [
    "print(branch_name)"
   ]
  },
  {
   "cell_type": "code",
   "execution_count": 0,
   "metadata": {
    "application/vnd.databricks.v1+cell": {
     "cellMetadata": {
      "byteLimit": 2048000,
      "rowLimit": 10000
     },
     "inputWidgets": {},
     "nuid": "19e9ef71-6b46-4091-b76b-bae008ee5cce",
     "showTitle": false,
     "title": ""
    }
   },
   "outputs": [],
   "source": [
    "# ## Deletando branch\n",
    "# # Rodar segundo a necessidade\n",
    "\n",
    "# project.branches.delete(branch_name)\n",
    "# print(f\"Branch {branch_name} deletada\")"
   ]
  }
 ],
 "metadata": {
  "application/vnd.databricks.v1+notebook": {
   "dashboards": [],
   "language": "python",
   "notebookMetadata": {
    "mostRecentlyExecutedCommandWithImplicitDF": {
     "commandId": 1142005245282585,
     "dataframes": [
      "_sqldf"
     ]
    },
    "pythonIndentUnit": 2
   },
   "notebookName": "(Clone) BOT automação update",
   "widgets": {
    "Chamado": {
     "currentValue": "SPAVT-12899",
     "nuid": "917f60b2-a676-4dd7-aee8-eacc41b99403",
     "widgetInfo": {
      "widgetType": "text",
      "defaultValue": "None",
      "label": null,
      "name": "Chamado",
      "options": {
       "widgetType": "text",
       "autoCreated": null,
       "validationRegex": null
      }
     }
    }
   }
  }
 },
 "nbformat": 4,
 "nbformat_minor": 0
}
